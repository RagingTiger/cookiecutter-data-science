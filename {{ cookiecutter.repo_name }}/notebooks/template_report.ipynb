{
 "cells": [
  {
   "cell_type": "markdown",
   "id": "39bd6468-b4ff-468e-a6f9-c31720b6a31d",
   "metadata": {
    "tags": [
     "remove_cell"
    ]
   },
   "source": [
    "# Jupyter Notebook to PDF Report Template"
   ]
  },
  {
   "cell_type": "markdown",
   "id": "0861ef15-d001-405b-b5f1-9d27b5d6b896",
   "metadata": {
    "tags": [
     "remove_cell"
    ]
   },
   "source": [
    "#### WARNING: Read Before Using\n",
    "+ The auto conversion behavior is turned **OFF** by default. To enable it set *keyword arg* `auto=True` in the [Report Generation](#Report-Generation) section below.\n",
    "+ If you want to *force* the conversion to occur *EVERY* time after the first run, then simply set the *keyword arg* `force=True` in the [Report Generation](#Report-Generation) section below. This is the same behavior as the original `REPORT_READY` variable in older versions.\n",
    "+ If both `force=True` and `auto=True`, then the *forced* behavior will dominate, and the conversion will occur every time after the first run.\n",
    "+ Else if both `force=False` and `auto=False`, no conversion of any kind will take place (i.e. the default behavior).\n",
    "+ Make sure to press CMD-S after running the the entire notebook when `auto=True` *IF* you want it to be converted to a **PDF** report on the *NEXT* run ... otherwise you can run the notebook over and over again and it will not convert (until you save and run it again), unless `force=True` then it will convert regardless.\n",
    "+ The `title` can be set in the metadata dictionary."
   ]
  },
  {
   "cell_type": "markdown",
   "id": "d95f1159-a4a0-4dc7-9f24-fa27ec7151b7",
   "metadata": {
    "tags": []
   },
   "source": [
    "# Introduction\n",
    "Here I will show how to use the `bibtex` citations. For example, here is me citing the *Official Python* website <cite data-cite=\"PYTHON\"></cite>. Here is me citing *git*<cite data-cite=\"git_scm\"></cite> and *Scipy* <cite data-cite=\"SciPy\"></cite>. Here is an example of multiple citations of some interesting books <cite data-cite=\"brooks78,knuth_literate\"></cite> as well as an interesting article <cite data-cite=\"mpi\"></cite>."
   ]
  },
  {
   "cell_type": "code",
   "execution_count": null,
   "id": "c63241ef-3e75-48e4-9e97-717cdfa53029",
   "metadata": {
    "tags": [
     "remove_input"
    ]
   },
   "outputs": [],
   "source": [
    "# code"
   ]
  },
  {
   "cell_type": "markdown",
   "id": "7d778c37-2563-4688-9591-32f623bb8c30",
   "metadata": {},
   "source": [
    "# Data Visualization"
   ]
  },
  {
   "cell_type": "code",
   "execution_count": null,
   "id": "f0393c5b-c4da-4444-a83e-74120a3f7037",
   "metadata": {
    "tags": [
     "remove_input"
    ]
   },
   "outputs": [],
   "source": [
    "# code"
   ]
  },
  {
   "cell_type": "markdown",
   "id": "e9869a18-1c0d-4476-beab-64ae1f3aa6ec",
   "metadata": {
    "tags": []
   },
   "source": [
    "# Analysis"
   ]
  },
  {
   "cell_type": "code",
   "execution_count": null,
   "id": "6d560c65-e8db-4c63-b6c1-11eebc74c2f2",
   "metadata": {
    "tags": [
     "remove_input"
    ]
   },
   "outputs": [],
   "source": [
    "# code"
   ]
  },
  {
   "cell_type": "markdown",
   "id": "1e05a2f0-2b28-4a39-b19f-fb8a52ff288f",
   "metadata": {
    "tags": []
   },
   "source": [
    "# Conclusion"
   ]
  },
  {
   "cell_type": "code",
   "execution_count": null,
   "id": "c78180b7-aa1d-4cac-b3ff-4fe97430d053",
   "metadata": {
    "tags": [
     "remove_input"
    ]
   },
   "outputs": [],
   "source": [
    "# code"
   ]
  },
  {
   "cell_type": "markdown",
   "id": "080c860f-8af3-46c6-a746-8f448a958761",
   "metadata": {},
   "source": [
    "# Appendices\n",
    "The following section contains supplementary information not displayed in the the main body of the report."
   ]
  },
  {
   "cell_type": "code",
   "execution_count": null,
   "id": "85593ae9-b5f6-4d4b-9fd0-ed225d7ec24d",
   "metadata": {
    "tags": [
     "remove_input"
    ]
   },
   "outputs": [],
   "source": [
    "# code"
   ]
  },
  {
   "cell_type": "markdown",
   "id": "67cd8922-f1a8-4510-904c-51ffc2fa1d52",
   "metadata": {
    "tags": [
     "remove_cell"
    ]
   },
   "source": [
    "# Report Generation\n",
    "This section is where the *PDF Report* will be generated."
   ]
  },
  {
   "cell_type": "code",
   "execution_count": null,
   "id": "60ac6f9d-8672-4c02-b6b7-f692ea07c976",
   "metadata": {
    "tags": [
     "remove_cell"
    ]
   },
   "outputs": [],
   "source": [
    "# get code for generating report\n",
    "import jupyter_report\n",
    "\n",
    "# generate report\n",
    "jupyter_report.auto_convert(globals(), auto=False, force=False)"
   ]
  }
 ],
 "metadata": {
  "kernelspec": {
   "display_name": "Python 3 (ipykernel)",
   "language": "python",
   "name": "python3"
  },
  "language_info": {
   "codemirror_mode": {
    "name": "ipython",
    "version": 3
   },
   "file_extension": ".py",
   "mimetype": "text/x-python",
   "name": "python",
   "nbconvert_exporter": "python",
   "pygments_lexer": "ipython3",
   "version": "3.10.10"
  },
  "title": "Jupyter Notebook to PDF Report Template"
 },
 "nbformat": 4,
 "nbformat_minor": 5
}
