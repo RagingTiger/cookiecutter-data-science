{
 "cells": [
  {
   "cell_type": "markdown",
   "id": "39bd6468-b4ff-468e-a6f9-c31720b6a31d",
   "metadata": {
    "tags": [
     "remove_cell"
    ]
   },
   "source": [
    "# Jupyter Notebook to PDF Report"
   ]
  },
  {
   "cell_type": "markdown",
   "id": "0861ef15-d001-405b-b5f1-9d27b5d6b896",
   "metadata": {
    "tags": [
     "remove_cell"
    ]
   },
   "source": [
    "#### WARNING: Read Before Using\n",
    "+ Make sure to press CMD-S after every full run or output will not be saved and therefore not converted into the   final report ...\n",
    "+ Notebook wil only convert to PDF **AFTER** it is run *twice*. The first time will simply generate all the  \n",
    "  output. The second time will also convert the notebook to PDF (check the `reports` directory in the repo  \n",
    "  root).\n",
    "+ Always *restart kernel and clear output* for every new report you want to make (assuming it involes different data inputs etc ...)\n"
   ]
  },
  {
   "cell_type": "markdown",
   "id": "d95f1159-a4a0-4dc7-9f24-fa27ec7151b7",
   "metadata": {
    "tags": []
   },
   "source": [
    "# Introduction"
   ]
  },
  {
   "cell_type": "code",
   "execution_count": null,
   "id": "c63241ef-3e75-48e4-9e97-717cdfa53029",
   "metadata": {
    "tags": [
     "remove_input"
    ]
   },
   "outputs": [],
   "source": [
    "# code"
   ]
  },
  {
   "cell_type": "markdown",
   "id": "7d778c37-2563-4688-9591-32f623bb8c30",
   "metadata": {},
   "source": [
    "# Data Visualization"
   ]
  },
  {
   "cell_type": "code",
   "execution_count": null,
   "id": "f0393c5b-c4da-4444-a83e-74120a3f7037",
   "metadata": {
    "tags": [
     "remove_input"
    ]
   },
   "outputs": [],
   "source": [
    "# code"
   ]
  },
  {
   "cell_type": "markdown",
   "id": "e9869a18-1c0d-4476-beab-64ae1f3aa6ec",
   "metadata": {
    "tags": []
   },
   "source": [
    "# Analysis"
   ]
  },
  {
   "cell_type": "code",
   "execution_count": null,
   "id": "6d560c65-e8db-4c63-b6c1-11eebc74c2f2",
   "metadata": {
    "tags": [
     "remove_input"
    ]
   },
   "outputs": [],
   "source": [
    "# code"
   ]
  },
  {
   "cell_type": "markdown",
   "id": "1e05a2f0-2b28-4a39-b19f-fb8a52ff288f",
   "metadata": {
    "tags": []
   },
   "source": [
    "# Conclusion"
   ]
  },
  {
   "cell_type": "code",
   "execution_count": null,
   "id": "c78180b7-aa1d-4cac-b3ff-4fe97430d053",
   "metadata": {
    "tags": [
     "remove_input"
    ]
   },
   "outputs": [],
   "source": [
    "# code"
   ]
  },
  {
   "cell_type": "markdown",
   "id": "080c860f-8af3-46c6-a746-8f448a958761",
   "metadata": {},
   "source": [
    "# Appendices\n",
    "The following section contains supplementary information not displayed in the the main body of the report."
   ]
  },
  {
   "cell_type": "code",
   "execution_count": null,
   "id": "85593ae9-b5f6-4d4b-9fd0-ed225d7ec24d",
   "metadata": {
    "tags": [
     "remove_input"
    ]
   },
   "outputs": [],
   "source": [
    "# code"
   ]
  },
  {
   "cell_type": "markdown",
   "id": "67cd8922-f1a8-4510-904c-51ffc2fa1d52",
   "metadata": {
    "tags": [
     "remove_cell"
    ]
   },
   "source": [
    "# Report Generation\n",
    "This section is where the *PDF Report* will be generated."
   ]
  },
  {
   "cell_type": "code",
   "execution_count": null,
   "id": "60ac6f9d-8672-4c02-b6b7-f692ea07c976",
   "metadata": {
    "tags": [
     "remove_cell"
    ]
   },
   "outputs": [],
   "source": [
    "# WARNING convert to PDF report if REPORT_READY set to True\n",
    "if 'REPORT_READY' in globals() and REPORT_READY:\n",
    "    # libs\n",
    "    import datetime\n",
    "    import ipynbname\n",
    "    import os\n",
    "    import pathlib\n",
    "\n",
    "    # nbconvert-specific libs\n",
    "    import traitlets.config\n",
    "    import nbformat\n",
    "    from nbconvert.exporters import PDFExporter\n",
    "    from nbconvert.preprocessors import TagRemovePreprocessor\n",
    "    \n",
    "    # setup report dir if not exist\n",
    "    pathlib.Path('/home/jovyan/reports').mkdir(parents=True, exist_ok=True)\n",
    "    \n",
    "    # Setup config\n",
    "    config = traitlets.config.Config()\n",
    "\n",
    "    # set exporter setting to remove code execution counters\n",
    "    exporter_settings = {\n",
    "        'exclude_input_prompt' : True,\n",
    "        'exclude_output_prompt' : True,\n",
    "    }\n",
    "    config.PDFExporter.update(exporter_settings)\n",
    "\n",
    "    # Configure tag removal - be sure to tag your cells to remove using the\n",
    "    # words remove_cell to remove cells. You can also modify the code to use\n",
    "    # a different tag word\n",
    "    config.TagRemovePreprocessor.remove_cell_tags = ('remove_cell',)\n",
    "    config.TagRemovePreprocessor.remove_input_tags = ('remove_input',)\n",
    "    config.TagRemovePreprocessor.enabled = True\n",
    "\n",
    "    # Configure and run out exporter\n",
    "    config.PDFExporter.preprocessors = ['nbconvert.preprocessors.TagRemovePreprocessor']\n",
    "    \n",
    "    # get exporter\n",
    "    exporter = PDFExporter(config=config)\n",
    "\n",
    "    # Configure and run our exporter - returns a tuple - first element with pdf,\n",
    "    # second with notebook metadata\n",
    "    pdf_data, metadata = exporter.from_filename(ipynbname.path())\n",
    "    \n",
    "    # get date time for doc\n",
    "    dt_stamp = datetime.datetime.now().strftime('%y%m%d%H%M%S')\n",
    "    \n",
    "    # create report name for PDF\n",
    "    pdf_name = f'{ipynbname.name()}.{dt_stamp}.pdf'\n",
    "    \n",
    "    # create full path for PDF report\n",
    "    pdf_full_path = os.path.join('/home/jovyan/reports', pdf_name)\n",
    "\n",
    "    # Write to output PDF file path\n",
    "    with open(pdf_full_path,  \"wb\") as f:\n",
    "        f.write(pdf_data)"
   ]
  },
  {
   "cell_type": "code",
   "execution_count": null,
   "id": "5252b22e-428b-4587-9fa6-5d66e9373215",
   "metadata": {
    "tags": [
     "remove_cell"
    ]
   },
   "outputs": [],
   "source": [
    "# by default turn off report generation (turn on when ready to generate report and then run all cells)\n",
    "REPORT_READY = True"
   ]
  }
 ],
 "metadata": {
  "kernelspec": {
   "display_name": "Python 3 (ipykernel)",
   "language": "python",
   "name": "python3"
  },
  "language_info": {
   "codemirror_mode": {
    "name": "ipython",
    "version": 3
   },
   "file_extension": ".py",
   "mimetype": "text/x-python",
   "name": "python",
   "nbconvert_exporter": "python",
   "pygments_lexer": "ipython3",
   "version": "3.10.9"
  }
 },
 "nbformat": 4,
 "nbformat_minor": 5
}
